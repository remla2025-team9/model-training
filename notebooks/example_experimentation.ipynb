{
 "cells": [
  {
   "cell_type": "markdown",
   "id": "1367d23a",
   "metadata": {},
   "source": [
    "# Example Jupyter Notebook\n",
    "\n",
    "This is an example Jupyter Notebook to demonstrate that experimental files are decoupled from the production code."
   ]
  }
 ],
 "metadata": {
  "language_info": {
   "name": "python"
  }
 },
 "nbformat": 4,
 "nbformat_minor": 5
}
